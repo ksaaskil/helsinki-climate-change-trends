{
 "cells": [
  {
   "cell_type": "code",
   "execution_count": null,
   "metadata": {},
   "outputs": [],
   "source": [
    "import pandas\n",
    "import matplotlib\n",
    "from matplotlib import pyplot as plt\n",
    "import numpy as np\n",
    "%matplotlib inline\n",
    "plt.rcParams.update({'font.size': 20})\n",
    "\n",
    "def read_precipitation(filename='helsinki.csv'):\n",
    "    return pandas.read_csv(filename, sep=\";\", header=0, names=[\"Year\", \"Average\", \"Percentage of average\"])\n",
    "\n",
    "\n",
    "def read_temperature(filename='helsinki.csv'):\n",
    "    return pandas.read_csv(filename, sep=\";\", header=0, names=[\"Year\", \"Average\", \"Anomaly\"])"
   ]
  },
  {
   "cell_type": "code",
   "execution_count": null,
   "metadata": {},
   "outputs": [],
   "source": [
    "prec_jan = read_precipitation(filename='helsinki/prec_jan.csv')\n",
    "prec_jul = read_precipitation(filename='helsinki/prec_jul.csv')\n",
    "temp_jan = read_temperature(filename='helsinki/temp_jan.csv')\n",
    "temp_jul = read_temperature(filename='helsinki/temp_jul.csv')"
   ]
  },
  {
   "cell_type": "code",
   "execution_count": null,
   "metadata": {},
   "outputs": [],
   "source": [
    "def plot_avg(df, field='Average', window=10, title='Precipitation'):\n",
    "    x = df['Year']\n",
    "    y = df[field]\n",
    "    plt.figure(figsize=(8, 6))\n",
    "    plt.plot(x, y, label='Yearly average')\n",
    "    plt.plot(x, y.rolling(window=window, center=True).mean(), label='Moving average over %d years' % window)\n",
    "    plt.legend()\n",
    "    plt.title(title)\n",
    "    plt.xlabel('Year')\n",
    "\n",
    "plot_avg(df=prec_jan, field='Average', window=10, title='Precipitation in January')"
   ]
  },
  {
   "cell_type": "code",
   "execution_count": null,
   "metadata": {},
   "outputs": [],
   "source": [
    "plot_avg(df=prec_jul, field='Average', window=10, title='Precipitation in July')"
   ]
  },
  {
   "cell_type": "code",
   "execution_count": null,
   "metadata": {},
   "outputs": [],
   "source": [
    "plot_avg(df=temp_jan, field='Average', window=10, title='Temperature in January')"
   ]
  },
  {
   "cell_type": "code",
   "execution_count": null,
   "metadata": {},
   "outputs": [],
   "source": [
    "plot_avg(df=temp_jul, field='Average', window=20, title='Temperature in July')"
   ]
  },
  {
   "cell_type": "markdown",
   "metadata": {},
   "source": [
    "# Earth energy balance\n",
    "\n",
    "### 1. Amount of solar radiation absorbed by Earth\n",
    "\n",
    "Per unit area:\n",
    "\n",
    "$$\n",
    "S = \\frac{P(1-\\alpha)}{16 \\pi d^2}\n",
    "  \\approx 238 \\textrm{ W/m}^2\n",
    "$$\n",
    "\n",
    "### 2. Power emitted by Earth\n",
    "\n",
    "$$\n",
    "F = \\sigma T^4 \\approx 385 \\textrm{ W/m}^2\n",
    "$$\n",
    "\n",
    "### 3. Distance where the two are equal\n",
    "\n",
    "Assume now that $S=F$ so that the radiation coming in from the Sun equals the radiation emitted by the Earth (i.e., assuming no greenhouse effect):\n",
    "\n",
    "$$\n",
    "    \\frac{P(1-\\alpha)}{16 \\pi d^2} = \\sigma T^4\n",
    "$$\n",
    "\n",
    "Solve this for $d$:\n",
    "\n",
    "$$\n",
    "    d =\\sqrt{\\frac{P(1-\\alpha)}{ 16 \\pi \\sigma T^4}}\n",
    "$$"
   ]
  },
  {
   "cell_type": "code",
   "execution_count": null,
   "metadata": {},
   "outputs": [],
   "source": [
    "import math\n",
    "P = 3.83e26\n",
    "alpha = 0.3\n",
    "T = 287\n",
    "sigma = 5.67e-8\n",
    "\n",
    "d = math.sqrt((P * (1-alpha))/(16 * math.pi * sigma * math.pow(T, 4.0)))\n",
    "print(\"Distance: %f kilometers, that's %.2f percent of the true distance\" % (d / 1e3, d / (149.6e9) * 100))"
   ]
  }
 ],
 "metadata": {
  "language_info": {
   "name": "python",
   "pygments_lexer": "ipython3"
  }
 },
 "nbformat": 4,
 "nbformat_minor": 2
}
