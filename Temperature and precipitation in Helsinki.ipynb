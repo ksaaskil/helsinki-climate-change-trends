{
 "cells": [
  {
   "cell_type": "code",
   "execution_count": null,
   "metadata": {},
   "outputs": [],
   "source": [
    "import pandas\n",
    "import matplotlib\n",
    "from matplotlib import pyplot as plt\n",
    "import numpy as np\n",
    "%matplotlib inline\n",
    "\n",
    "def read_precipitation(filename='helsinki.csv'):\n",
    "    return pandas.read_csv(filename, sep=\";\", header=0, names=[\"Year\", \"Average\", \"Percentage of average\"])\n",
    "\n",
    "\n",
    "def read_temperature(filename='helsinki.csv'):\n",
    "    return pandas.read_csv(filename, sep=\";\", header=0, names=[\"Year\", \"Average\", \"Anomaly\"])"
   ]
  },
  {
   "cell_type": "code",
   "execution_count": null,
   "metadata": {},
   "outputs": [],
   "source": [
    "prec_jan = read_precipitation(filename='helsinki/prec_jan.csv')\n",
    "prec_jul = read_precipitation(filename='helsinki/prec_jul.csv')\n",
    "temp_jan = read_temperature(filename='helsinki/temp_jan.csv')\n",
    "temp_jul = read_temperature(filename='helsinki/temp_jul.csv')"
   ]
  },
  {
   "cell_type": "code",
   "execution_count": null,
   "metadata": {},
   "outputs": [],
   "source": [
    "def plot_avg(df, field='Average', window=10):\n",
    "    x = df['Year']\n",
    "    y = df[field]\n",
    "    plt.figure()\n",
    "    plt.plot(x, y)\n",
    "    plt.plot(x, y.rolling(window=window, center=True).mean())\n",
    "\n",
    "plot_avg(df=prec_jan, field='Average', window=10)"
   ]
  },
  {
   "cell_type": "code",
   "execution_count": null,
   "metadata": {},
   "outputs": [],
   "source": [
    "plot_avg(df=prec_jul, field='Average', window=10)"
   ]
  },
  {
   "cell_type": "code",
   "execution_count": null,
   "metadata": {},
   "outputs": [],
   "source": [
    "plot_avg(df=temp_jan, field='Average', window=10)"
   ]
  },
  {
   "cell_type": "code",
   "execution_count": null,
   "metadata": {},
   "outputs": [],
   "source": [
    "plot_avg(df=temp_jul, field='Average', window=10)"
   ]
  },
  {
   "cell_type": "code",
   "execution_count": null,
   "metadata": {},
   "outputs": [],
   "source": []
  }
 ],
 "metadata": {
  "language_info": {
   "name": "python",
   "pygments_lexer": "ipython3"
  }
 },
 "nbformat": 4,
 "nbformat_minor": 2
}
